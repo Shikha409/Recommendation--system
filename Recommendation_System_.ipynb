{
  "cells": [
    {
      "cell_type": "markdown",
      "metadata": {
        "id": "view-in-github",
        "colab_type": "text"
      },
      "source": [
        "<a href=\"https://colab.research.google.com/github/Shikha409/Recommendation--system/blob/main/Recommendation_System_.ipynb\" target=\"_parent\"><img src=\"https://colab.research.google.com/assets/colab-badge.svg\" alt=\"Open In Colab\"/></a>"
      ]
    },
    {
      "cell_type": "markdown",
      "source": [
        "## Recommendation system for e commerce in deep learning"
      ],
      "metadata": {
        "id": "SSHLmhVXQdD9"
      }
    },
    {
      "cell_type": "code",
      "source": [
        "from google.colab import drive\n",
        "drive.mount('/content/drive')"
      ],
      "metadata": {
        "colab": {
          "base_uri": "https://localhost:8080/"
        },
        "id": "piteKiCtaGat",
        "outputId": "18d34abc-c598-4fcc-d627-468164037260"
      },
      "execution_count": null,
      "outputs": [
        {
          "output_type": "stream",
          "name": "stdout",
          "text": [
            "Mounted at /content/drive\n"
          ]
        }
      ]
    },
    {
      "cell_type": "markdown",
      "metadata": {
        "id": "zoyBraKhZwos"
      },
      "source": [
        "## Amazon Beauty Products  dataset\n",
        "\n",
        "Source: https://www.kaggle.com/skillsmuggler/amazon-ratings"
      ]
    },
    {
      "cell_type": "markdown",
      "metadata": {
        "id": "9iwIkxHDZwos"
      },
      "source": [
        "#### Importing libraries"
      ]
    },
    {
      "cell_type": "code",
      "execution_count": null,
      "metadata": {
        "id": "VhBIYly0Zwos"
      },
      "outputs": [],
      "source": [
        "import numpy as np\n",
        "import pandas as pd\n",
        "import matplotlib.pyplot as plt\n",
        "\n",
        "# %matplotlib inline\n",
        "plt.style.use(\"ggplot\")\n",
        "\n",
        "import sklearn\n",
        "from sklearn.decomposition import TruncatedSVD"
      ]
    },
    {
      "cell_type": "markdown",
      "metadata": {
        "id": "77UhWEH-Zwot"
      },
      "source": [
        "#### Loading the dataset"
      ]
    },
    {
      "cell_type": "code",
      "source": [
        "import pandas as pd\n",
        "\n",
        "# Read the data\n",
        "amazon_ratings = pd.read_csv('/content/drive/MyDrive/aaaaaaaaa/ratings_Beauty.csv')\n",
        "\n",
        "# Drop missing values\n",
        "amazon_ratings = amazon_ratings.dropna()\n",
        "\n",
        "# Drop 'Timestamp' and 'Rating' columns\n",
        "data = amazon_ratings.drop(columns=['Timestamp', 'Rating'])\n",
        "data = data.head(100000)\n",
        "# Find user IDs that appear more than once\n",
        "duplicate_user_ids = data['UserId'].value_counts()[data['UserId'].value_counts() > 1].index\n",
        "\n",
        "# Store the rows for each duplicate user ID in arrays\n",
        "duplicate_users_data = {user_id: data[data['UserId'] == user_id].to_dict('records') for user_id in duplicate_user_ids}\n",
        "\n",
        "# Aggregate product IDs for each duplicate user ID\n",
        "aggregated_data = []\n",
        "for user_id, records in duplicate_users_data.items():\n",
        "    all_product_ids = [record['ProductId'] for record in records]\n",
        "    aggregated_data.append({'UserId': user_id, 'ProductIds': all_product_ids})\n",
        "\n",
        "# Convert the aggregated data to a DataFrame\n",
        "df_aggregated = pd.DataFrame(aggregated_data)\n",
        "\n",
        "# Save the DataFrame to a CSV file\n",
        "df_aggregated.to_csv('/content/user_products.csv', index=False)\n",
        "\n",
        "# If you want to see the first few rows of the DataFrame\n",
        "print(df_aggregated.head())\n"
      ],
      "metadata": {
        "colab": {
          "base_uri": "https://localhost:8080/"
        },
        "id": "S1X7k2wiXhrb",
        "outputId": "0a829572-ae73-425a-eb38-f4fd4b0aceee"
      },
      "execution_count": null,
      "outputs": [
        {
          "output_type": "stream",
          "name": "stdout",
          "text": [
            "           UserId                                         ProductIds\n",
            "0  A281NPSIMI1C2R  [B000050B6X, B000050FET, B000052WYL, B000052Y3...\n",
            "1  A3M174IC0VXOS2  [B00000JGVX, B000052YKU, B000052YMQ, B000052Z8...\n",
            "2  A1Z54EM24Y40LL  [B000053037, B00005303A, B00005304H, B00005307...\n",
            "3   AKMEY1BSHSDG7  [B000052WYD, B0000530LP, B0000530O6, B0000536F...\n",
            "4   AK7CAW3N1XZV6  [B000052Y1Q, B000052YJX, B000052YJY, B000052YM...\n"
          ]
        }
      ]
    },
    {
      "cell_type": "code",
      "source": [
        "import pandas as pd\n",
        "from sklearn.model_selection import train_test_split\n",
        "from tensorflow.keras.preprocessing.sequence import pad_sequences\n",
        "from tensorflow.keras.utils import to_categorical\n",
        "from tensorflow.keras.preprocessing.text import Tokenizer\n",
        "\n",
        "# Load the dataset\n",
        "data = pd.read_csv('/content/user_products.csv')\n",
        "\n",
        "# Create a tokenizer for product IDs\n",
        "tokenizer = Tokenizer()\n",
        "tokenizer.fit_on_texts(data['ProductIds'].apply(lambda x: x.strip('[]').replace(\"'\", \"\").split(', ')))\n",
        "\n",
        "# Convert product IDs to sequences\n",
        "sequences = tokenizer.texts_to_sequences(data['ProductIds'].apply(lambda x: x.strip('[]').replace(\"'\", \"\").split(', ')))\n",
        "\n",
        "# Pad sequences to ensure equal length\n",
        "max_sequence_len = max([len(seq) for seq in sequences])\n",
        "sequences = pad_sequences(sequences, maxlen=max_sequence_len, padding='pre')\n",
        "\n",
        "# Create predictors and label\n",
        "X = sequences[:, :-1]\n",
        "y = sequences[:, -1]\n",
        "\n",
        "# Convert labels to categorical\n",
        "y = to_categorical(y, num_classes=len(tokenizer.word_index) + 1)\n",
        "\n",
        "# Split the data\n",
        "X_train, X_test, y_train, y_test = train_test_split(X, y, test_size=0.2, random_state=42)\n"
      ],
      "metadata": {
        "id": "jDnT1z36f0c-"
      },
      "execution_count": null,
      "outputs": []
    },
    {
      "cell_type": "code",
      "source": [
        "from tensorflow.keras.models import Sequential\n",
        "from tensorflow.keras.layers import Embedding, LSTM, Dense\n",
        "\n",
        "# Define the model\n",
        "model = Sequential()\n",
        "model.add(Embedding(len(tokenizer.word_index) + 1, 50, input_length=max_sequence_len - 1))\n",
        "model.add(LSTM(100))\n",
        "model.add(Dense(len(tokenizer.word_index) + 1, activation='softmax'))\n",
        "\n",
        "# Compile the model\n",
        "model.compile(loss='categorical_crossentropy', optimizer='adam', metrics=['accuracy'])\n",
        "\n",
        "# Summary of the model\n",
        "model.summary()\n"
      ],
      "metadata": {
        "colab": {
          "base_uri": "https://localhost:8080/"
        },
        "id": "lFkc2SiMh7KG",
        "outputId": "641141f9-5db6-4997-eebb-5c0ba0128024"
      },
      "execution_count": null,
      "outputs": [
        {
          "output_type": "stream",
          "name": "stdout",
          "text": [
            "Model: \"sequential_1\"\n",
            "_________________________________________________________________\n",
            " Layer (type)                Output Shape              Param #   \n",
            "=================================================================\n",
            " embedding_1 (Embedding)     (None, 78, 50)            154600    \n",
            "                                                                 \n",
            " lstm_1 (LSTM)               (None, 100)               60400     \n",
            "                                                                 \n",
            " dense_1 (Dense)             (None, 3092)              312292    \n",
            "                                                                 \n",
            "=================================================================\n",
            "Total params: 527292 (2.01 MB)\n",
            "Trainable params: 527292 (2.01 MB)\n",
            "Non-trainable params: 0 (0.00 Byte)\n",
            "_________________________________________________________________\n"
          ]
        }
      ]
    },
    {
      "cell_type": "code",
      "source": [
        "# Train the model\n",
        "history = model.fit(X_train, y_train, epochs=20, batch_size=32, validation_data=(X_test, y_test))\n"
      ],
      "metadata": {
        "colab": {
          "base_uri": "https://localhost:8080/"
        },
        "id": "-LSu0tXHiAzS",
        "outputId": "b297e0a0-02dd-4a8d-ddfd-521afba1d6dc"
      },
      "execution_count": null,
      "outputs": [
        {
          "output_type": "stream",
          "name": "stdout",
          "text": [
            "Epoch 1/20\n",
            "151/151 [==============================] - 8s 42ms/step - loss: 7.4602 - accuracy: 0.0112 - val_loss: 7.2491 - val_accuracy: 0.0158\n",
            "Epoch 2/20\n",
            "151/151 [==============================] - 3s 21ms/step - loss: 6.8535 - accuracy: 0.0110 - val_loss: 7.3214 - val_accuracy: 0.0166\n",
            "Epoch 3/20\n",
            "151/151 [==============================] - 3s 15ms/step - loss: 6.7261 - accuracy: 0.0135 - val_loss: 7.4380 - val_accuracy: 0.0108\n",
            "Epoch 4/20\n",
            "151/151 [==============================] - 2s 15ms/step - loss: 6.6503 - accuracy: 0.0131 - val_loss: 7.5832 - val_accuracy: 0.0075\n",
            "Epoch 5/20\n",
            "151/151 [==============================] - 2s 12ms/step - loss: 6.5944 - accuracy: 0.0164 - val_loss: 7.7156 - val_accuracy: 0.0266\n",
            "Epoch 6/20\n",
            "151/151 [==============================] - 2s 10ms/step - loss: 6.5396 - accuracy: 0.0177 - val_loss: 7.7202 - val_accuracy: 0.0200\n",
            "Epoch 7/20\n",
            "151/151 [==============================] - 1s 9ms/step - loss: 6.4808 - accuracy: 0.0187 - val_loss: 7.8712 - val_accuracy: 0.0191\n",
            "Epoch 8/20\n",
            "151/151 [==============================] - 2s 11ms/step - loss: 6.4214 - accuracy: 0.0216 - val_loss: 7.9006 - val_accuracy: 0.0249\n",
            "Epoch 9/20\n",
            "151/151 [==============================] - 2s 12ms/step - loss: 6.3642 - accuracy: 0.0229 - val_loss: 7.9807 - val_accuracy: 0.0175\n",
            "Epoch 10/20\n",
            "151/151 [==============================] - 2s 14ms/step - loss: 6.3085 - accuracy: 0.0239 - val_loss: 8.1145 - val_accuracy: 0.0266\n",
            "Epoch 11/20\n",
            "151/151 [==============================] - 2s 11ms/step - loss: 6.2548 - accuracy: 0.0268 - val_loss: 8.1334 - val_accuracy: 0.0299\n",
            "Epoch 12/20\n",
            "151/151 [==============================] - 2s 11ms/step - loss: 6.2009 - accuracy: 0.0279 - val_loss: 8.1922 - val_accuracy: 0.0341\n",
            "Epoch 13/20\n",
            "151/151 [==============================] - 1s 10ms/step - loss: 6.1424 - accuracy: 0.0301 - val_loss: 8.2049 - val_accuracy: 0.0308\n",
            "Epoch 14/20\n",
            "151/151 [==============================] - 1s 10ms/step - loss: 6.0813 - accuracy: 0.0320 - val_loss: 8.2367 - val_accuracy: 0.0299\n",
            "Epoch 15/20\n",
            "151/151 [==============================] - 1s 10ms/step - loss: 6.0137 - accuracy: 0.0362 - val_loss: 8.3336 - val_accuracy: 0.0333\n",
            "Epoch 16/20\n",
            "151/151 [==============================] - 1s 9ms/step - loss: 5.9487 - accuracy: 0.0445 - val_loss: 8.3435 - val_accuracy: 0.0299\n",
            "Epoch 17/20\n",
            "151/151 [==============================] - 2s 11ms/step - loss: 5.8794 - accuracy: 0.0501 - val_loss: 8.3572 - val_accuracy: 0.0399\n",
            "Epoch 18/20\n",
            "151/151 [==============================] - 2s 11ms/step - loss: 5.8077 - accuracy: 0.0518 - val_loss: 8.3717 - val_accuracy: 0.0432\n",
            "Epoch 19/20\n",
            "151/151 [==============================] - 1s 10ms/step - loss: 5.7344 - accuracy: 0.0555 - val_loss: 8.4543 - val_accuracy: 0.0482\n",
            "Epoch 20/20\n",
            "151/151 [==============================] - 1s 7ms/step - loss: 5.6631 - accuracy: 0.0607 - val_loss: 8.4767 - val_accuracy: 0.0532\n"
          ]
        }
      ]
    },
    {
      "cell_type": "code",
      "source": [
        "### to predict only 1 product\n",
        "\n",
        "# import numpy as np\n",
        "\n",
        "# # Function to predict the next product\n",
        "# def predict_next_product(model, tokenizer, current_sequence, max_sequence_len):\n",
        "#     token_list = tokenizer.texts_to_sequences([current_sequence])[0]\n",
        "#     token_list = pad_sequences([token_list], maxlen=max_sequence_len-1, padding='pre')\n",
        "#     predicted_probs = model.predict(token_list, verbose=0)\n",
        "#     predicted = np.argmax(predicted_probs, axis=-1)\n",
        "#     return tokenizer.index_word[predicted[0]]\n",
        "\n",
        "# # Example prediction\n",
        "# sample_sequence = data['ProductIds'][0].strip('[]').replace(\"'\", \"\").split(', ')\n",
        "# next_product = predict_next_product(model, tokenizer, sample_sequence, max_sequence_len)\n",
        "# print(f'Next product prediction: {next_product}')\n",
        "\n",
        "\n",
        "### to predict 5 products ###\n",
        "\n",
        "# Function to predict the next n products\n",
        "def predict_next_n_products(model, tokenizer, current_sequence, max_sequence_len, n):\n",
        "    token_list = tokenizer.texts_to_sequences([current_sequence])[0]\n",
        "    predictions = []\n",
        "    for _ in range(n):\n",
        "        token_list_padded = pad_sequences([token_list], maxlen=max_sequence_len-1, padding='pre')\n",
        "        predicted_probs = model.predict(token_list_padded, verbose=0)\n",
        "        predicted = np.argmax(predicted_probs, axis=-1)\n",
        "        next_product = tokenizer.index_word[predicted[0]]\n",
        "        predictions.append(next_product)\n",
        "        token_list.append(predicted[0])\n",
        "    return predictions\n",
        "\n",
        "# Example prediction for next 5 products\n",
        "sample_sequence = data['ProductIds'][5].strip('[]').replace(\"'\", \"\").split(', ')\n",
        "next_products = predict_next_n_products(model, tokenizer, sample_sequence, max_sequence_len, 5)\n",
        "print(f'Next 5 product predictions: {next_products}')\n"
      ],
      "metadata": {
        "colab": {
          "base_uri": "https://localhost:8080/"
        },
        "id": "onOO55_ziHpv",
        "outputId": "5cee4ccb-3f10-443c-df9e-765a45349bb0"
      },
      "execution_count": null,
      "outputs": [
        {
          "output_type": "stream",
          "name": "stdout",
          "text": [
            "Next 5 product predictions: ['b0002gpeia', 'b0002ocqvk', 'b0002ocqvk', 'b0002ocqvk', 'b0002gpeia']\n"
          ]
        }
      ]
    }
  ],
  "metadata": {
    "kernelspec": {
      "display_name": "Python 3",
      "name": "python3"
    },
    "language_info": {
      "codemirror_mode": {
        "name": "ipython",
        "version": 3
      },
      "file_extension": ".py",
      "mimetype": "text/x-python",
      "name": "python",
      "nbconvert_exporter": "python",
      "pygments_lexer": "ipython3",
      "version": "3.7.0"
    },
    "colab": {
      "provenance": [],
      "gpuType": "T4",
      "include_colab_link": true
    },
    "accelerator": "GPU"
  },
  "nbformat": 4,
  "nbformat_minor": 0
}